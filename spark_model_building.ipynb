{
 "cells": [
  {
   "cell_type": "markdown",
   "metadata": {},
   "source": [
    "### Assignment 3\n",
    "\n",
    "# Spark and Spark Streaming: Model Building"
   ]
  },
  {
   "cell_type": "code",
   "execution_count": 2,
   "metadata": {},
   "outputs": [],
   "source": [
    "from pyspark.ml import Pipeline\n",
    "from pyspark.ml.feature import HashingTF, IDF, Tokenizer, CountVectorizer, StopWordsRemover\n",
    "from pyspark.ml.feature import ChiSqSelector, NGram, VectorAssembler\n",
    "from pyspark.ml.feature import StringIndexer, IndexToString\n",
    "from pyspark.ml.classification import LogisticRegression, NaiveBayes, RandomForestClassifier\n",
    "from pyspark.ml.evaluation import MulticlassClassificationEvaluator\n",
    "import glob"
   ]
  },
  {
   "cell_type": "code",
   "execution_count": 4,
   "metadata": {},
   "outputs": [],
   "source": [
    "files = glob.glob('C:/Users/user/Desktop/data/part-*')"
   ]
  },
  {
   "cell_type": "code",
   "execution_count": 5,
   "metadata": {},
   "outputs": [],
   "source": [
    "df = spark.read.json(files[0])\n",
    "for fp in files[1:]:\n",
    "    df_temp = spark.read.json(fp)\n",
    "    df = df.union(df_temp)"
   ]
  },
  {
   "cell_type": "code",
   "execution_count": 6,
   "metadata": {},
   "outputs": [],
   "source": [
    "import pandas as pd\n",
    "import matplotlib.pyplot as plt\n",
    "df_pd = df.toPandas()\n",
    "df_pd['review_score']=pd.to_numeric(df_pd['review_score'])"
   ]
  },
  {
   "cell_type": "code",
   "execution_count": 7,
   "metadata": {},
   "outputs": [
    {
     "data": {
      "text/plain": [
       "<matplotlib.axes._subplots.AxesSubplot at 0x1de5ec37a58>"
      ]
     },
     "execution_count": 7,
     "metadata": {},
     "output_type": "execute_result"
    },
    {
     "data": {
      "image/png": "[encoded data removed]",
      "text/plain": [
       "<Figure size 432x288 with 1 Axes>"
      ]
     },
     "metadata": {
      "needs_background": "light"
     },
     "output_type": "display_data"
    }
   ],
   "source": [
    "df_pd['review_score'].hist()"
   ]
  },
  {
   "cell_type": "code",
   "execution_count": 12,
   "metadata": {},
   "outputs": [
    {
     "name": "stdout",
     "output_type": "stream",
     "text": [
      "Percentage of review scores \n",
      "5 = 64.0%\n",
      "4 = 29.67%\n",
      "3 = 2.67%\n",
      "2 = 2.0%\n",
      "1 = 1.67%\n"
     ]
    }
   ],
   "source": [
    "five = round(len(df_pd[df_pd.review_score==5])*100/len(df_pd), 2)\n",
    "four = round(len(df_pd[df_pd.review_score==4])*100/len(df_pd), 2)\n",
    "three = round(len(df_pd[df_pd.review_score==3])*100/len(df_pd), 2)\n",
    "two = round(len(df_pd[df_pd.review_score==2])*100/len(df_pd), 2)\n",
    "one = round(len(df_pd[df_pd.review_score==1])*100/len(df_pd), 2)\n",
    "\n",
    "print(\"Percentage of review scores \")\n",
    "print(\"5 = \"+ str(five)+ \"%\")\n",
    "print(\"4 = \"+ str(four)+ \"%\")\n",
    "print(\"3 = \"+ str(three)+ \"%\")\n",
    "print(\"2 = \"+ str(two)+ \"%\")\n",
    "print(\"1 = \"+ str(one)+ \"%\")\n"
   ]
  },
  {
   "cell_type": "code",
   "execution_count": 13,
   "metadata": {
    "scrolled": true
   },
   "outputs": [],
   "source": [
    "train, test = df.randomSplit([0.8, 0.2], seed=123)\n",
    "train = train.select('review_text', 'review_score')\n",
    "test = test.select('review_text', 'review_score')"
   ]
  },
  {
   "cell_type": "markdown",
   "metadata": {},
   "source": [
    "After we have downloaded the data and split them into a train and a test set, we are ready to implement several routines to analyse the reviews."
   ]
  },
  {
   "cell_type": "markdown",
   "metadata": {},
   "source": [
    "### Feature Engineering\n",
    "\n",
    "We specify three pipelines consisting of different feature building and selection techniques.\n",
    "\n",
    "\n",
    "#### Pipeline 1\n",
    "One gram + hashingTF "
   ]
  },
  {
   "cell_type": "code",
   "execution_count": 14,
   "metadata": {},
   "outputs": [],
   "source": [
    "tokenizer = Tokenizer(inputCol=\"review_text\", outputCol=\"words\")\n",
    "remover = StopWordsRemover(inputCol=\"words\", outputCol=\"filtered\")\n",
    "hashingTF = HashingTF(inputCol=\"filtered\", outputCol=\"tf\")\n",
    "idf1 = IDF(inputCol='tf', outputCol=\"features\", minDocFreq=2)\n",
    "indexer = StringIndexer(inputCol=\"review_score\", outputCol=\"label\").fit(df)\n",
    "converter = IndexToString(inputCol=\"prediction\", outputCol=\"predictedSCORE\", labels=indexer.labels)"
   ]
  },
  {
   "cell_type": "markdown",
   "metadata": {},
   "source": [
    "#### Pipeline 2\n",
    "One gram + Count Vectorizer "
   ]
  },
  {
   "cell_type": "code",
   "execution_count": 15,
   "metadata": {},
   "outputs": [],
   "source": [
    "#tokenizer = Tokenizer(inputCol=\"review_text\", outputCol=\"words\")\n",
    "#remover = StopWordsRemover(inputCol=\"words\", outputCol=\"filtered\")\n",
    "cv2 = CountVectorizer(vocabSize=2**16, inputCol=\"filtered\", outputCol='cv')\n",
    "idf2 = IDF(inputCol='cv', outputCol=\"features\", minDocFreq=2)\n",
    "#indexer = StringIndexer(inputCol=\"review_score\", outputCol=\"label\").fit(df)\n",
    "#converter = IndexToString(inputCol=\"prediction\", outputCol=\"predictedSCORE\", labels=indexer.labels)"
   ]
  },
  {
   "cell_type": "markdown",
   "metadata": {},
   "source": [
    "#### Pipeline 3\n",
    "bi gram + Count Vectorizer  + Chi-Squared feature selection"
   ]
  },
  {
   "cell_type": "code",
   "execution_count": 16,
   "metadata": {},
   "outputs": [],
   "source": [
    "tokenizer3 = [Tokenizer(inputCol=\"review_text\", outputCol=\"words\")]\n",
    "remover3 = [StopWordsRemover(inputCol=\"words\", outputCol=\"filtered\")]\n",
    "bigrams = [NGram(n=i, inputCol=\"filtered\", outputCol=\"{0}_grams\".format(i)) for i in range(1, 3)]\n",
    "cv3 = [CountVectorizer(vocabSize=2**14,inputCol=\"{0}_grams\".format(i), outputCol=\"{0}_tf\".format(i)) for i in range(1, 3)]\n",
    "idf3 = [IDF(inputCol=\"{0}_tf\".format(i), outputCol=\"{0}_tfidf\".format(i), minDocFreq=2) for i in range(1, 3)]\n",
    "assembler = [VectorAssembler(inputCols=[\"{0}_tfidf\".format(i) for i in range(1, 3)], outputCol=\"rawFeatures\")]\n",
    "selector = [ChiSqSelector(numTopFeatures=2**10, featuresCol='rawFeatures', outputCol=\"features\")]\n",
    "indexer3 = [StringIndexer(inputCol=\"review_score\", outputCol=\"label\").fit(df)]\n",
    "converter3 = [IndexToString(inputCol=\"prediction\", outputCol=\"predictedSCORE\", labels=indexer.labels)]"
   ]
  },
  {
   "cell_type": "markdown",
   "metadata": {},
   "source": [
    "### Logistic Regression\n",
    "\n",
    "We apply a multinomial Logistic Regression on top of the three different pipelines."
   ]
  },
  {
   "cell_type": "code",
   "execution_count": 17,
   "metadata": {
    "scrolled": true
   },
   "outputs": [],
   "source": [
    "lr = LogisticRegression(maxIter=10, regParam=0.01)\n",
    "\n",
    "# pipeline 1\n",
    "lr1_pipe = Pipeline(stages=[tokenizer, remover, hashingTF, idf1, indexer, lr, converter])\n",
    "lr1_fit = lr1_pipe.fit(train)"
   ]
  },
  {
   "cell_type": "code",
   "execution_count": 18,
   "metadata": {},
   "outputs": [],
   "source": [
    "# pipeline 2\n",
    "lr2_pipe = Pipeline(stages=[tokenizer, remover, cv2, idf2, indexer, lr, converter])\n",
    "lr2_fit = lr2_pipe.fit(train)"
   ]
  },
  {
   "cell_type": "code",
   "execution_count": 19,
   "metadata": {},
   "outputs": [],
   "source": [
    "lr3 = [LogisticRegression(maxIter=10, regParam=0.01)]\n",
    "# pipeline 3\n",
    "lr3_pipe = Pipeline(stages= tokenizer3 + remover3 + bigrams + cv3 + idf3  + assembler + indexer3 + selector + lr3 + converter3)\n",
    "lr3_fit = lr3_pipe.fit(train)"
   ]
  },
  {
   "cell_type": "markdown",
   "metadata": {},
   "source": [
    "Here are displayed the performances of the Logistic Regressions in terms of accuracy on the test set."
   ]
  },
  {
   "cell_type": "code",
   "execution_count": 20,
   "metadata": {},
   "outputs": [
    {
     "name": "stdout",
     "output_type": "stream",
     "text": [
      "Logistic Regression-Pipeline 1 Test set accuracy = 0.8\n",
      "Logistic Regression-Pipeline 2 Test set accuracy = 0.8\n",
      "Logistic Regression-Pipeline 3 Test set accuracy = 0.8363636363636363\n"
     ]
    }
   ],
   "source": [
    "lr1_res = lr1_fit.transform(test)\n",
    "lr1_pred = lr1_res.select(\"prediction\", \"label\")\n",
    "\n",
    "lr2_res = lr2_fit.transform(test)\n",
    "lr2_pred = lr2_res.select(\"prediction\", \"label\")\n",
    "\n",
    "lr3_res = lr3_fit.transform(test)\n",
    "lr3_pred = lr3_res.select(\"prediction\", \"label\")\n",
    "\n",
    "evaluator = MulticlassClassificationEvaluator(metricName=\"accuracy\")\n",
    "print(\"Logistic Regression-Pipeline 1 Test set accuracy = \" + str(evaluator.evaluate(lr1_pred)))\n",
    "print(\"Logistic Regression-Pipeline 2 Test set accuracy = \" + str(evaluator.evaluate(lr2_pred)))\n",
    "print(\"Logistic Regression-Pipeline 3 Test set accuracy = \" + str(evaluator.evaluate(lr3_pred)))"
   ]
  },
  {
   "cell_type": "markdown",
   "metadata": {},
   "source": [
    "### Naive Bayes\n",
    "\n",
    "We apply a Naive Bayes classifier on top of the three different pipelines."
   ]
  },
  {
   "cell_type": "code",
   "execution_count": 22,
   "metadata": {},
   "outputs": [],
   "source": [
    "nb = NaiveBayes(smoothing=1.0, modelType=\"multinomial\")\n",
    "\n",
    "# pipeline 1\n",
    "nb1_pipe = Pipeline(stages=[tokenizer, remover, hashingTF, idf1, indexer, nb, converter])\n",
    "nb1_fit = nb1_pipe.fit(train)"
   ]
  },
  {
   "cell_type": "code",
   "execution_count": 23,
   "metadata": {},
   "outputs": [],
   "source": [
    "# pipeline 2\n",
    "nb2_pipe = Pipeline(stages=[tokenizer, remover, cv2, idf2, indexer, nb, converter])\n",
    "nb2_fit = nb2_pipe.fit(train)"
   ]
  },
  {
   "cell_type": "code",
   "execution_count": 24,
   "metadata": {},
   "outputs": [],
   "source": [
    "nb3 = [NaiveBayes(smoothing=1.0, modelType=\"multinomial\")]\n",
    "\n",
    "# pipeline 3\n",
    "nb3_pipe = Pipeline(stages= tokenizer3 + remover3 + bigrams + cv3 + idf3  + assembler + indexer3 + selector + nb3 + converter3)\n",
    "nb3_fit = nb3_pipe.fit(train)"
   ]
  },
  {
   "cell_type": "markdown",
   "metadata": {},
   "source": [
    "Here are displayed the performances of the Naive Bayes Classifier in terms of accuracy on the test set."
   ]
  },
  {
   "cell_type": "code",
   "execution_count": 25,
   "metadata": {},
   "outputs": [
    {
     "name": "stdout",
     "output_type": "stream",
     "text": [
      "Naive Bayes-Pipeline 1 Test set accuracy = 0.8181818181818182\n",
      "Naive Bayes-Pipeline 2 Test set accuracy = 0.8\n",
      "Naive Bayes-Pipeline 3 Test set accuracy = 0.7090909090909091\n"
     ]
    }
   ],
   "source": [
    "nb1_res = nb1_fit.transform(test)\n",
    "nb1_pred = nb1_res.select(\"prediction\", \"label\")\n",
    "\n",
    "nb2_res = nb2_fit.transform(test)\n",
    "nb2_pred = nb2_res.select(\"prediction\", \"label\")\n",
    "\n",
    "nb3_res = nb3_fit.transform(test)\n",
    "nb3_pred = nb3_res.select(\"prediction\", \"label\")\n",
    "\n",
    "evaluator = MulticlassClassificationEvaluator(metricName=\"accuracy\")\n",
    "print(\"Naive Bayes-Pipeline 1 Test set accuracy = \" + str(evaluator.evaluate(nb1_pred)))\n",
    "print(\"Naive Bayes-Pipeline 2 Test set accuracy = \" + str(evaluator.evaluate(nb2_pred)))\n",
    "print(\"Naive Bayes-Pipeline 3 Test set accuracy = \" + str(evaluator.evaluate(nb3_pred)))"
   ]
  },
  {
   "cell_type": "markdown",
   "metadata": {},
   "source": [
    "### Random Forest\n",
    "\n",
    "We build a Random Forest classifier on top of the three different pipelines."
   ]
  },
  {
   "cell_type": "code",
   "execution_count": 26,
   "metadata": {},
   "outputs": [],
   "source": [
    "rf = RandomForestClassifier(labelCol=\"label\", featuresCol=\"features\", numTrees=25)\n",
    "\n",
    "# pipeline 1\n",
    "rf1_pipe = Pipeline(stages=[tokenizer, remover, hashingTF, idf1, indexer, rf, converter])\n",
    "rf1_fit = rf1_pipe.fit(train)"
   ]
  },
  {
   "cell_type": "code",
   "execution_count": 27,
   "metadata": {},
   "outputs": [],
   "source": [
    "# pipeline 2\n",
    "rf2_pipe = Pipeline(stages=[tokenizer, remover, cv2, idf2, indexer, rf, converter])\n",
    "rf2_fit = rf2_pipe.fit(train)"
   ]
  },
  {
   "cell_type": "code",
   "execution_count": 28,
   "metadata": {},
   "outputs": [],
   "source": [
    "rf = [RandomForestClassifier(labelCol=\"label\", featuresCol=\"features\", numTrees=25)]\n",
    "\n",
    "# pipeline 3\n",
    "rf3_pipe = Pipeline(stages= tokenizer3 + remover3 + bigrams + cv3 + idf3  + assembler + indexer3 + selector + nb3 + converter3)\n",
    "rf3_fit = rf3_pipe.fit(train)"
   ]
  },
  {
   "cell_type": "markdown",
   "metadata": {},
   "source": [
    "Here are displayed the performances of the Random Forests in terms of accuracy on the test set."
   ]
  },
  {
   "cell_type": "code",
   "execution_count": 29,
   "metadata": {},
   "outputs": [
    {
     "name": "stdout",
     "output_type": "stream",
     "text": [
      "Random Forest-Pipeline 1 Test set accuracy = 0.6363636363636364\n",
      "Random Forest-Pipeline 2 Test set accuracy = 0.7272727272727273\n",
      "Random Forest-Pipeline 3 Test set accuracy = 0.7272727272727273\n"
     ]
    }
   ],
   "source": [
    "rf1_res = rf1_fit.transform(test)\n",
    "rf1_pred = rf1_res.select(\"prediction\", \"label\")\n",
    "\n",
    "rf2_res = rf2_fit.transform(test)\n",
    "rf2_pred = rf2_res.select(\"prediction\", \"label\")\n",
    "\n",
    "rf3_res = rf3_fit.transform(test)\n",
    "rf3_pred = rf3_res.select(\"prediction\", \"label\")\n",
    "\n",
    "evaluator = MulticlassClassificationEvaluator(metricName=\"accuracy\")\n",
    "print(\"Random Forest-Pipeline 1 Test set accuracy = \" + str(evaluator.evaluate(rf1_pred)))\n",
    "print(\"Random Forest-Pipeline 2 Test set accuracy = \" + str(evaluator.evaluate(rf2_pred)))\n",
    "print(\"Random Forest-Pipeline 3 Test set accuracy = \" + str(evaluator.evaluate(rf3_pred)))"
   ]
  },
  {
   "cell_type": "markdown",
   "metadata": {},
   "source": [
    "### Saving the Best Model\n",
    "\n",
    "Now we are ready to save the chosen model in order to employ it on the streaming data."
   ]
  },
  {
   "cell_type": "code",
   "execution_count": 30,
   "metadata": {},
   "outputs": [],
   "source": [
    "lr3_fit.save('C:/Users/user/Desktop/spark/lr_FinalModel')"
   ]
  }
 ],
 "metadata": {
  "kernelspec": {
   "display_name": "Python 3",
   "language": "python",
   "name": "python3"
  },
  "language_info": {
   "codemirror_mode": {
    "name": "ipython",
    "version": 3
   },
   "file_extension": ".py",
   "mimetype": "text/x-python",
   "name": "python",
   "nbconvert_exporter": "python",
   "pygments_lexer": "ipython3",
   "version": "3.7.1"
  }
 },
 "nbformat": 4,
 "nbformat_minor": 2
}
